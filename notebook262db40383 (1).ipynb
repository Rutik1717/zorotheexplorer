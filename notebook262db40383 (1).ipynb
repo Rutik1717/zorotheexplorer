{
 "cells": [
  {
   "cell_type": "code",
   "execution_count": 1,
   "id": "f6c70df0",
   "metadata": {
    "_cell_guid": "b1076dfc-b9ad-4769-8c92-a6c4dae69d19",
    "_uuid": "8f2839f25d086af736a60e9eeb907d3b93b6e0e5",
    "execution": {
     "iopub.execute_input": "2024-03-01T17:07:57.946336Z",
     "iopub.status.busy": "2024-03-01T17:07:57.945519Z",
     "iopub.status.idle": "2024-03-01T17:07:58.853913Z",
     "shell.execute_reply": "2024-03-01T17:07:58.852684Z"
    },
    "papermill": {
     "duration": 0.919845,
     "end_time": "2024-03-01T17:07:58.856372",
     "exception": false,
     "start_time": "2024-03-01T17:07:57.936527",
     "status": "completed"
    },
    "tags": []
   },
   "outputs": [
    {
     "name": "stdout",
     "output_type": "stream",
     "text": [
      "/kaggle/input/narutoo/ANM2.csv\n"
     ]
    }
   ],
   "source": [
    "# This Python 3 environment comes with many helpful analytics libraries installed\n",
    "# It is defined by the kaggle/python Docker image: https://github.com/kaggle/docker-python\n",
    "# For example, here's several helpful packages to load\n",
    "\n",
    "import numpy as np # linear algebra\n",
    "import pandas as pd # data processing, CSV file I/O (e.g. pd.read_csv)\n",
    "\n",
    "# Input data files are available in the read-only \"../input/\" directory\n",
    "# For example, running this (by clicking run or pressing Shift+Enter) will list all files under the input directory\n",
    "\n",
    "import os\n",
    "for dirname, _, filenames in os.walk('/kaggle/input'):\n",
    "    for filename in filenames:\n",
    "        print(os.path.join(dirname, filename))\n",
    "\n",
    "# You can write up to 20GB to the current directory (/kaggle/working/) that gets preserved as output when you create a version using \"Save & Run All\" \n",
    "# You can also write temporary files to /kaggle/temp/, but they won't be saved outside of the current session"
   ]
  },
  {
   "cell_type": "code",
   "execution_count": 2,
   "id": "d36cddad",
   "metadata": {
    "execution": {
     "iopub.execute_input": "2024-03-01T17:07:58.869885Z",
     "iopub.status.busy": "2024-03-01T17:07:58.869187Z",
     "iopub.status.idle": "2024-03-01T17:08:00.848278Z",
     "shell.execute_reply": "2024-03-01T17:08:00.847143Z"
    },
    "papermill": {
     "duration": 1.988718,
     "end_time": "2024-03-01T17:08:00.850999",
     "exception": false,
     "start_time": "2024-03-01T17:07:58.862281",
     "status": "completed"
    },
    "tags": []
   },
   "outputs": [],
   "source": [
    "import numpy as np\n",
    "import pandas as pd\n",
    "import matplotlib.pyplot as plt\n",
    "import seaborn as sns\n",
    "from sklearn.cluster import KMeans\n",
    "from scipy.spatial import distance"
   ]
  },
  {
   "cell_type": "code",
   "execution_count": 3,
   "id": "f59ab724",
   "metadata": {
    "execution": {
     "iopub.execute_input": "2024-03-01T17:08:00.864141Z",
     "iopub.status.busy": "2024-03-01T17:08:00.863777Z",
     "iopub.status.idle": "2024-03-01T17:08:00.919187Z",
     "shell.execute_reply": "2024-03-01T17:08:00.918364Z"
    },
    "papermill": {
     "duration": 0.065035,
     "end_time": "2024-03-01T17:08:00.921797",
     "exception": false,
     "start_time": "2024-03-01T17:08:00.856762",
     "status": "completed"
    },
    "tags": []
   },
   "outputs": [],
   "source": [
    "data=pd.read_csv('/kaggle/input/narutoo/ANM2.csv')"
   ]
  },
  {
   "cell_type": "code",
   "execution_count": 4,
   "id": "aaf9422e",
   "metadata": {
    "execution": {
     "iopub.execute_input": "2024-03-01T17:08:00.935358Z",
     "iopub.status.busy": "2024-03-01T17:08:00.934442Z",
     "iopub.status.idle": "2024-03-01T17:08:00.949128Z",
     "shell.execute_reply": "2024-03-01T17:08:00.948005Z"
    },
    "papermill": {
     "duration": 0.023847,
     "end_time": "2024-03-01T17:08:00.951579",
     "exception": false,
     "start_time": "2024-03-01T17:08:00.927732",
     "status": "completed"
    },
    "tags": []
   },
   "outputs": [],
   "source": [
    "data=data[data['genre']!='Hentai']"
   ]
  },
  {
   "cell_type": "code",
   "execution_count": 5,
   "id": "2089c083",
   "metadata": {
    "execution": {
     "iopub.execute_input": "2024-03-01T17:08:00.964378Z",
     "iopub.status.busy": "2024-03-01T17:08:00.964022Z",
     "iopub.status.idle": "2024-03-01T17:08:00.983316Z",
     "shell.execute_reply": "2024-03-01T17:08:00.982186Z"
    },
    "papermill": {
     "duration": 0.028305,
     "end_time": "2024-03-01T17:08:00.985478",
     "exception": false,
     "start_time": "2024-03-01T17:08:00.957173",
     "status": "completed"
    },
    "tags": []
   },
   "outputs": [
    {
     "data": {
      "text/html": [
       "<div>\n",
       "<style scoped>\n",
       "    .dataframe tbody tr th:only-of-type {\n",
       "        vertical-align: middle;\n",
       "    }\n",
       "\n",
       "    .dataframe tbody tr th {\n",
       "        vertical-align: top;\n",
       "    }\n",
       "\n",
       "    .dataframe thead th {\n",
       "        text-align: right;\n",
       "    }\n",
       "</style>\n",
       "<table border=\"1\" class=\"dataframe\">\n",
       "  <thead>\n",
       "    <tr style=\"text-align: right;\">\n",
       "      <th></th>\n",
       "      <th>anime_id</th>\n",
       "      <th>name</th>\n",
       "      <th>genre</th>\n",
       "      <th>type</th>\n",
       "      <th>episodes</th>\n",
       "      <th>rating</th>\n",
       "      <th>members</th>\n",
       "    </tr>\n",
       "  </thead>\n",
       "  <tbody>\n",
       "    <tr>\n",
       "      <th>0</th>\n",
       "      <td>32281</td>\n",
       "      <td>Kimi no Na wa.</td>\n",
       "      <td>Drama, Romance, School, Supernatural</td>\n",
       "      <td>Movie</td>\n",
       "      <td>1</td>\n",
       "      <td>9.37</td>\n",
       "      <td>200630</td>\n",
       "    </tr>\n",
       "    <tr>\n",
       "      <th>1</th>\n",
       "      <td>5114</td>\n",
       "      <td>Fullmetal Alchemist: Brotherhood</td>\n",
       "      <td>Action, Adventure, Drama, Fantasy, Magic, Mili...</td>\n",
       "      <td>TV</td>\n",
       "      <td>64</td>\n",
       "      <td>9.26</td>\n",
       "      <td>793665</td>\n",
       "    </tr>\n",
       "    <tr>\n",
       "      <th>2</th>\n",
       "      <td>28977</td>\n",
       "      <td>Gintama°</td>\n",
       "      <td>Action, Comedy, Historical, Parody, Samurai, S...</td>\n",
       "      <td>TV</td>\n",
       "      <td>51</td>\n",
       "      <td>9.25</td>\n",
       "      <td>114262</td>\n",
       "    </tr>\n",
       "    <tr>\n",
       "      <th>3</th>\n",
       "      <td>9253</td>\n",
       "      <td>Steins;Gate</td>\n",
       "      <td>Sci-Fi, Thriller</td>\n",
       "      <td>TV</td>\n",
       "      <td>24</td>\n",
       "      <td>9.17</td>\n",
       "      <td>673572</td>\n",
       "    </tr>\n",
       "    <tr>\n",
       "      <th>4</th>\n",
       "      <td>9969</td>\n",
       "      <td>Gintama&amp;#039;</td>\n",
       "      <td>Action, Comedy, Historical, Parody, Samurai, S...</td>\n",
       "      <td>TV</td>\n",
       "      <td>51</td>\n",
       "      <td>9.16</td>\n",
       "      <td>151266</td>\n",
       "    </tr>\n",
       "  </tbody>\n",
       "</table>\n",
       "</div>"
      ],
      "text/plain": [
       "   anime_id                              name  \\\n",
       "0     32281                    Kimi no Na wa.   \n",
       "1      5114  Fullmetal Alchemist: Brotherhood   \n",
       "2     28977                          Gintama°   \n",
       "3      9253                       Steins;Gate   \n",
       "4      9969                     Gintama&#039;   \n",
       "\n",
       "                                               genre   type episodes  rating  \\\n",
       "0               Drama, Romance, School, Supernatural  Movie        1    9.37   \n",
       "1  Action, Adventure, Drama, Fantasy, Magic, Mili...     TV       64    9.26   \n",
       "2  Action, Comedy, Historical, Parody, Samurai, S...     TV       51    9.25   \n",
       "3                                   Sci-Fi, Thriller     TV       24    9.17   \n",
       "4  Action, Comedy, Historical, Parody, Samurai, S...     TV       51    9.16   \n",
       "\n",
       "   members  \n",
       "0   200630  \n",
       "1   793665  \n",
       "2   114262  \n",
       "3   673572  \n",
       "4   151266  "
      ]
     },
     "execution_count": 5,
     "metadata": {},
     "output_type": "execute_result"
    }
   ],
   "source": [
    "data.head()"
   ]
  },
  {
   "cell_type": "code",
   "execution_count": 6,
   "id": "c4483a8b",
   "metadata": {
    "execution": {
     "iopub.execute_input": "2024-03-01T17:08:00.999296Z",
     "iopub.status.busy": "2024-03-01T17:08:00.998415Z",
     "iopub.status.idle": "2024-03-01T17:08:01.003378Z",
     "shell.execute_reply": "2024-03-01T17:08:01.002324Z"
    },
    "papermill": {
     "duration": 0.014471,
     "end_time": "2024-03-01T17:08:01.005675",
     "exception": false,
     "start_time": "2024-03-01T17:08:00.991204",
     "status": "completed"
    },
    "tags": []
   },
   "outputs": [],
   "source": [
    "genre=data['genre'].values"
   ]
  },
  {
   "cell_type": "code",
   "execution_count": 7,
   "id": "815bbdb9",
   "metadata": {
    "execution": {
     "iopub.execute_input": "2024-03-01T17:08:01.019690Z",
     "iopub.status.busy": "2024-03-01T17:08:01.019332Z",
     "iopub.status.idle": "2024-03-01T17:08:01.046725Z",
     "shell.execute_reply": "2024-03-01T17:08:01.045876Z"
    },
    "papermill": {
     "duration": 0.037732,
     "end_time": "2024-03-01T17:08:01.049282",
     "exception": false,
     "start_time": "2024-03-01T17:08:01.011550",
     "status": "completed"
    },
    "tags": []
   },
   "outputs": [
    {
     "name": "stdout",
     "output_type": "stream",
     "text": [
      "<class 'pandas.core.frame.DataFrame'>\n",
      "Index: 11473 entries, 0 to 12295\n",
      "Data columns (total 7 columns):\n",
      " #   Column    Non-Null Count  Dtype  \n",
      "---  ------    --------------  -----  \n",
      " 0   anime_id  11473 non-null  int64  \n",
      " 1   name      11473 non-null  object \n",
      " 2   genre     11411 non-null  object \n",
      " 3   type      11448 non-null  object \n",
      " 4   episodes  11473 non-null  object \n",
      " 5   rating    11250 non-null  float64\n",
      " 6   members   11473 non-null  int64  \n",
      "dtypes: float64(1), int64(2), object(4)\n",
      "memory usage: 717.1+ KB\n"
     ]
    }
   ],
   "source": [
    "data.info()"
   ]
  },
  {
   "cell_type": "code",
   "execution_count": 8,
   "id": "8454e40e",
   "metadata": {
    "execution": {
     "iopub.execute_input": "2024-03-01T17:08:01.063473Z",
     "iopub.status.busy": "2024-03-01T17:08:01.062575Z",
     "iopub.status.idle": "2024-03-01T17:08:01.093051Z",
     "shell.execute_reply": "2024-03-01T17:08:01.091875Z"
    },
    "papermill": {
     "duration": 0.040207,
     "end_time": "2024-03-01T17:08:01.095630",
     "exception": false,
     "start_time": "2024-03-01T17:08:01.055423",
     "status": "completed"
    },
    "tags": []
   },
   "outputs": [],
   "source": [
    "lis=[]\n",
    "for i in genre:\n",
    "    i=str(i)\n",
    "    for p in i.split(','):\n",
    "        if p not in lis:\n",
    "            lis.append(p)"
   ]
  },
  {
   "cell_type": "code",
   "execution_count": 9,
   "id": "efc0f4be",
   "metadata": {
    "execution": {
     "iopub.execute_input": "2024-03-01T17:08:01.109631Z",
     "iopub.status.busy": "2024-03-01T17:08:01.109252Z",
     "iopub.status.idle": "2024-03-01T17:08:01.116293Z",
     "shell.execute_reply": "2024-03-01T17:08:01.115040Z"
    },
    "papermill": {
     "duration": 0.016795,
     "end_time": "2024-03-01T17:08:01.118694",
     "exception": false,
     "start_time": "2024-03-01T17:08:01.101899",
     "status": "completed"
    },
    "tags": []
   },
   "outputs": [
    {
     "data": {
      "text/plain": [
       "84"
      ]
     },
     "execution_count": 9,
     "metadata": {},
     "output_type": "execute_result"
    }
   ],
   "source": [
    "len(lis)"
   ]
  },
  {
   "cell_type": "code",
   "execution_count": 10,
   "id": "2b75cbcb",
   "metadata": {
    "execution": {
     "iopub.execute_input": "2024-03-01T17:08:01.134052Z",
     "iopub.status.busy": "2024-03-01T17:08:01.132874Z",
     "iopub.status.idle": "2024-03-01T17:08:01.138086Z",
     "shell.execute_reply": "2024-03-01T17:08:01.137159Z"
    },
    "papermill": {
     "duration": 0.015432,
     "end_time": "2024-03-01T17:08:01.140436",
     "exception": false,
     "start_time": "2024-03-01T17:08:01.125004",
     "status": "completed"
    },
    "tags": []
   },
   "outputs": [],
   "source": [
    "dic={}"
   ]
  },
  {
   "cell_type": "code",
   "execution_count": 11,
   "id": "b1f6b980",
   "metadata": {
    "execution": {
     "iopub.execute_input": "2024-03-01T17:08:01.155994Z",
     "iopub.status.busy": "2024-03-01T17:08:01.155233Z",
     "iopub.status.idle": "2024-03-01T17:08:01.346555Z",
     "shell.execute_reply": "2024-03-01T17:08:01.345597Z"
    },
    "papermill": {
     "duration": 0.202579,
     "end_time": "2024-03-01T17:08:01.349460",
     "exception": false,
     "start_time": "2024-03-01T17:08:01.146881",
     "status": "completed"
    },
    "tags": []
   },
   "outputs": [],
   "source": [
    "t=[]\n",
    "for i in genre:\n",
    "    for j in lis:\n",
    "        dic[j]=0\n",
    "    i=str(i)\n",
    "    for p in i.split(','):\n",
    "        dic[p]+=1\n",
    "    t.append(list(dic.values()))\n",
    "        "
   ]
  },
  {
   "cell_type": "code",
   "execution_count": 12,
   "id": "6ec23e9e",
   "metadata": {
    "execution": {
     "iopub.execute_input": "2024-03-01T17:08:01.364910Z",
     "iopub.status.busy": "2024-03-01T17:08:01.364418Z",
     "iopub.status.idle": "2024-03-01T17:08:01.371776Z",
     "shell.execute_reply": "2024-03-01T17:08:01.370600Z"
    },
    "papermill": {
     "duration": 0.018093,
     "end_time": "2024-03-01T17:08:01.374272",
     "exception": false,
     "start_time": "2024-03-01T17:08:01.356179",
     "status": "completed"
    },
    "tags": []
   },
   "outputs": [
    {
     "data": {
      "text/plain": [
       "84"
      ]
     },
     "execution_count": 12,
     "metadata": {},
     "output_type": "execute_result"
    }
   ],
   "source": [
    "len(t[0])"
   ]
  },
  {
   "cell_type": "code",
   "execution_count": 13,
   "id": "386f5363",
   "metadata": {
    "execution": {
     "iopub.execute_input": "2024-03-01T17:08:01.389714Z",
     "iopub.status.busy": "2024-03-01T17:08:01.388705Z",
     "iopub.status.idle": "2024-03-01T17:08:01.499568Z",
     "shell.execute_reply": "2024-03-01T17:08:01.498401Z"
    },
    "papermill": {
     "duration": 0.121735,
     "end_time": "2024-03-01T17:08:01.502523",
     "exception": false,
     "start_time": "2024-03-01T17:08:01.380788",
     "status": "completed"
    },
    "tags": []
   },
   "outputs": [],
   "source": [
    "X=np.array(t)"
   ]
  },
  {
   "cell_type": "code",
   "execution_count": 14,
   "id": "b52d5d23",
   "metadata": {
    "execution": {
     "iopub.execute_input": "2024-03-01T17:08:01.518011Z",
     "iopub.status.busy": "2024-03-01T17:08:01.517566Z",
     "iopub.status.idle": "2024-03-01T17:08:02.176663Z",
     "shell.execute_reply": "2024-03-01T17:08:02.175418Z"
    },
    "papermill": {
     "duration": 0.6691,
     "end_time": "2024-03-01T17:08:02.178132",
     "exception": true,
     "start_time": "2024-03-01T17:08:01.509032",
     "status": "failed"
    },
    "tags": []
   },
   "outputs": [
    {
     "ename": "StdinNotImplementedError",
     "evalue": "raw_input was called, but this frontend does not support input requests.",
     "output_type": "error",
     "traceback": [
      "\u001b[0;31m---------------------------------------------------------------------------\u001b[0m",
      "\u001b[0;31mStdinNotImplementedError\u001b[0m                  Traceback (most recent call last)",
      "Cell \u001b[0;32mIn[14], line 3\u001b[0m\n\u001b[1;32m      1\u001b[0m \u001b[38;5;66;03m# input 1 is the anime name\u001b[39;00m\n\u001b[1;32m      2\u001b[0m \u001b[38;5;66;03m# input 2 is the number of search result you want\u001b[39;00m\n\u001b[0;32m----> 3\u001b[0m s\u001b[38;5;241m=\u001b[39m\u001b[38;5;28;43minput\u001b[39;49m\u001b[43m(\u001b[49m\u001b[38;5;124;43m'\u001b[39;49m\u001b[38;5;124;43mEnter the anime you like and we will find more like those for you  :\u001b[39;49m\u001b[38;5;124;43m'\u001b[39;49m\u001b[43m)\u001b[49m\n\u001b[1;32m      4\u001b[0m num\u001b[38;5;241m=\u001b[39m\u001b[38;5;28mint\u001b[39m(\u001b[38;5;28minput\u001b[39m(\u001b[38;5;124m'\u001b[39m\u001b[38;5;124mPlease enter the number of recommendations you want:\u001b[39m\u001b[38;5;124m'\u001b[39m))\n\u001b[1;32m      5\u001b[0m name\u001b[38;5;241m=\u001b[39mdata[\u001b[38;5;124m'\u001b[39m\u001b[38;5;124mname\u001b[39m\u001b[38;5;124m'\u001b[39m]\u001b[38;5;241m.\u001b[39mvalues\n",
      "File \u001b[0;32m/opt/conda/lib/python3.10/site-packages/ipykernel/kernelbase.py:1261\u001b[0m, in \u001b[0;36mKernel.raw_input\u001b[0;34m(self, prompt)\u001b[0m\n\u001b[1;32m   1259\u001b[0m \u001b[38;5;28;01mif\u001b[39;00m \u001b[38;5;129;01mnot\u001b[39;00m \u001b[38;5;28mself\u001b[39m\u001b[38;5;241m.\u001b[39m_allow_stdin:\n\u001b[1;32m   1260\u001b[0m     msg \u001b[38;5;241m=\u001b[39m \u001b[38;5;124m\"\u001b[39m\u001b[38;5;124mraw_input was called, but this frontend does not support input requests.\u001b[39m\u001b[38;5;124m\"\u001b[39m\n\u001b[0;32m-> 1261\u001b[0m     \u001b[38;5;28;01mraise\u001b[39;00m StdinNotImplementedError(msg)\n\u001b[1;32m   1262\u001b[0m \u001b[38;5;28;01mreturn\u001b[39;00m \u001b[38;5;28mself\u001b[39m\u001b[38;5;241m.\u001b[39m_input_request(\n\u001b[1;32m   1263\u001b[0m     \u001b[38;5;28mstr\u001b[39m(prompt),\n\u001b[1;32m   1264\u001b[0m     \u001b[38;5;28mself\u001b[39m\u001b[38;5;241m.\u001b[39m_parent_ident[\u001b[38;5;124m\"\u001b[39m\u001b[38;5;124mshell\u001b[39m\u001b[38;5;124m\"\u001b[39m],\n\u001b[1;32m   1265\u001b[0m     \u001b[38;5;28mself\u001b[39m\u001b[38;5;241m.\u001b[39mget_parent(\u001b[38;5;124m\"\u001b[39m\u001b[38;5;124mshell\u001b[39m\u001b[38;5;124m\"\u001b[39m),\n\u001b[1;32m   1266\u001b[0m     password\u001b[38;5;241m=\u001b[39m\u001b[38;5;28;01mFalse\u001b[39;00m,\n\u001b[1;32m   1267\u001b[0m )\n",
      "\u001b[0;31mStdinNotImplementedError\u001b[0m: raw_input was called, but this frontend does not support input requests."
     ]
    }
   ],
   "source": [
    "# input 1 is the anime name\n",
    "# input 2 is the number of search result you want\n",
    "s=input('Enter the anime you like and we will find more like those for you  :')\n",
    "num=int(input('Please enter the number of recommendations you want:'))\n",
    "name=data['name'].values\n",
    "for i in range(len(name)):\n",
    "    name[i]=name[i].lower()\n",
    "s=s.lower()\n",
    "h=-1\n",
    "for i in range(len(name)):\n",
    "    if s in name[i]:\n",
    "        h=i\n",
    "        break\n",
    "imp=[]\n",
    "if h==-1:\n",
    "    print('Sorry No match found :(')\n",
    "else:\n",
    "    for i in range(len(t)):\n",
    "        if i==h:\n",
    "            continue\n",
    "        else:\n",
    "            if len(imp)<num:\n",
    "                imp.append([distance.euclidean(t[i], t[h]),t[i],i])\n",
    "            else:\n",
    "                imp.sort()\n",
    "                if imp[num-1][0]>distance.euclidean(t[i],t[h]):\n",
    "                    del imp[num-1]\n",
    "                    imp.append([distance.euclidean(t[i],t[h]),t[i],i])\n",
    "    name=data['name'].values\n",
    "    print('The anime recommended for you are :')\n",
    "    count=0\n",
    "    for i in imp:\n",
    "        count+=1\n",
    "        print(count,'. ',name[i[2]])"
   ]
  }
 ],
 "metadata": {
  "kaggle": {
   "accelerator": "none",
   "dataSources": [
    {
     "datasetId": 4522889,
     "sourceId": 7738580,
     "sourceType": "datasetVersion"
    }
   ],
   "dockerImageVersionId": 30664,
   "isGpuEnabled": false,
   "isInternetEnabled": false,
   "language": "python",
   "sourceType": "notebook"
  },
  "kernelspec": {
   "display_name": "Python 3",
   "language": "python",
   "name": "python3"
  },
  "language_info": {
   "codemirror_mode": {
    "name": "ipython",
    "version": 3
   },
   "file_extension": ".py",
   "mimetype": "text/x-python",
   "name": "python",
   "nbconvert_exporter": "python",
   "pygments_lexer": "ipython3",
   "version": "3.10.13"
  },
  "papermill": {
   "default_parameters": {},
   "duration": 7.988983,
   "end_time": "2024-03-01T17:08:02.907784",
   "environment_variables": {},
   "exception": true,
   "input_path": "__notebook__.ipynb",
   "output_path": "__notebook__.ipynb",
   "parameters": {},
   "start_time": "2024-03-01T17:07:54.918801",
   "version": "2.5.0"
  }
 },
 "nbformat": 4,
 "nbformat_minor": 5
}
